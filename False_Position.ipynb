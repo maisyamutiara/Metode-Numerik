{
  "cells": [
    {
      "cell_type": "code",
      "execution_count": null,
      "metadata": {
        "id": "FNrKmiwSusHg",
        "outputId": "9624dc28-033f-4cef-fde0-77ecbf95f436"
      },
      "outputs": [
        {
          "name": "stdout",
          "output_type": "stream",
          "text": [
            "Masukkan formula fungsi : x**3+4*x**2-2\n",
            "Masukkan titik awal pertama iterasi : 0\n",
            "Masukkan titik awal kedua iterasi : 1\n",
            "Masukkan toleransi aproksimasi : 10**(-6)\n",
            "0.4\n",
            "0.5810055865921788\n",
            "0.6360369707043896\n",
            "0.6505422138747846\n",
            "0.6542151956605945\n",
            "0.6551356877470821\n",
            "0.6553657737212888\n",
            "0.6554232484778615\n",
            "0.6554376031540254\n",
            "0.6554411881773877\n",
            "0.6554420835136374\n",
            "Akar dari persamaan f(x) = x**3+4*x**2-2 adalah x = 0.6554420835136374\n"
          ]
        }
      ],
      "source": [
        "#METODE FALSE POSITION\n",
        "\n",
        "import numpy #memanggil module numpy\n",
        "from numpy import sin, cos, tan, log, exp\n",
        "\n",
        "formula = input(\"Masukkan formula fungsi : \") #masukkan fungsi f(x)\n",
        "def f(x): #mendefinisikan input formula\n",
        "    return eval(formula)\n",
        "\n",
        "def FPos(p0, p1, Tol): #mendefinisikan fungsi false position \n",
        "    #p0 adalah p(n-2), p1 adalah p(n-1), dan Tol adalah toleransi error\n",
        "    p = p1 - (f(p1)*(p1-p0))/(f(p1)-f(p0)) #p adalah akar persamaan dari fungsi\n",
        "    abs_error = abs(p-p1) #inisialisasi nilai absolut error |p-p1|\n",
        "    \n",
        "    while abs_error >= Tol:#kondisi bersyarat absolut error kurang dari toleransi error\n",
        "        p = p1 - (f(p1)*(p1-p0))/(f(p1)-f(p0)) #menghitung nilai p\n",
        "        abs_error = abs(p-p1) #inisialisasi nilai absolut error |p-p0|\n",
        "        print(p)\n",
        "        \n",
        "        if f(p) * f(p1) < 0: #kondisi bersyarat f(p) dan f(p1) memiliki tanda yang berlawanan (-,+) atau (+,-)\n",
        "            p0 = p1 #mengganti nilai p0 dengan p1\n",
        "        p1 = p #mengganti nilai p1 dengan p\n",
        "    return p\n",
        "\n",
        "starting_point1 = eval(input(\"Masukkan titik awal pertama iterasi : \")) #input untuk p0\n",
        "starting_point2 = eval(input(\"Masukkan titik awal kedua iterasi : \")) #input untuk p1\n",
        "Tol = eval(input(\"Masukkan toleransi aproksimasi : \")) #input nilai toleransi error\n",
        "akar_fpos = FPos(starting_point1, starting_point2, Tol)\n",
        "\n",
        "print(\"Akar dari persamaan f(x) = \"+str(formula)+\" adalah x = \"+str(akar_fpos))"
      ]
    },
    {
      "cell_type": "code",
      "execution_count": null,
      "metadata": {
        "id": "WItYx27susHm",
        "outputId": "b520216f-53e6-45ec-ad04-0d869c9c7653"
      },
      "outputs": [
        {
          "name": "stdout",
          "output_type": "stream",
          "text": [
            "0.4\n",
            "0.5810055865921788\n",
            "0.6360369707043896\n",
            "0.6505422138747846\n",
            "0.6542151956605945\n",
            "0.6551356877470821\n",
            "0.6553657737212888\n",
            "0.6554232484778615\n"
          ]
        },
        {
          "data": {
            "text/plain": [
              "0.6554232484778615"
            ]
          },
          "execution_count": 2,
          "metadata": {},
          "output_type": "execute_result"
        }
      ],
      "source": [
        "FPos(0, 1, 0.0001)"
      ]
    },
    {
      "cell_type": "code",
      "execution_count": null,
      "metadata": {
        "id": "RyDU6OHlusHn",
        "outputId": "192d828d-a751-4abd-e029-00df4f403625"
      },
      "outputs": [
        {
          "name": "stdout",
          "output_type": "stream",
          "text": [
            "4.146435378241394\n",
            "4.224631655388074\n",
            "4.260367676938774\n",
            "4.275485760872508\n",
            "4.281667095806942\n",
            "4.284158796782897\n",
            "4.285157419082768\n",
            "4.28555671784056\n",
            "4.285716228904621\n",
            "4.285779926384536\n",
            "4.285805358894156\n",
            "4.285815512737076\n",
            "4.285819566528367\n"
          ]
        },
        {
          "data": {
            "text/plain": [
              "4.285819566528367"
            ]
          },
          "execution_count": 19,
          "metadata": {},
          "output_type": "execute_result"
        }
      ],
      "source": [
        "FPos(4, 5, 0.00001)"
      ]
    },
    {
      "cell_type": "markdown",
      "metadata": {
        "id": "e5Z-tmGmusHq"
      },
      "source": [
        "Metode False Position adalah salah satu metode yang dapat digunakan dalam melakukan aproksimasi akar dari suatu persamaan f(x) = 0. Metode ini merupakan gabungan dari metode Secant dan metode Bisection. Misalkan f fungsi kontinu dan terturunkan di [p0,p1] dimana f(p0) dan f(p1) berlawanan tanda. Iterasi pada metode False Position adalah sebagai berikut.\n",
        "Pn = Pn-1 - (f(Pn-1)((Pn-1)-(Pn-2))/f(Pn-1)-f(Pn-2))\n",
        "\n",
        "Algoritma :\n",
        "1. Definisikan suatu fungsi (f(x)) untuk menginput formula.\n",
        "2. Definisikan fungsi (FPos) dengan parameter p0, p1, dan Tol.\n",
        "3. Input p0 dan p1 sebagai batas interval dimana akar persamaan berada.\n",
        "4. Input Tol sebagai toleransi error.\n",
        "5. Selama absolut error lebih dari toleransi error yang diinput lanjutkan program.\n",
        "6. Hitunglah nilai p (akar persamaan) dengan rumus p = p1 - (f(p1)*(p1-p0))/(f(p1)-f(p0)).\n",
        "7. Periksa apakah f(p) dan f(p1) memiliki tanda yang berlawanan, jika f(p)*f(p1) < 0, maka ganti p0 denngan p1.\n",
        "8. Selanjutnya ganti p1 dengan p.\n",
        "9. Jika absolut error kurang dari toleransi error, hentikan program.\n",
        "10. Masukkan fungsi FPos ke variabel akar_fpos.\n",
        "11. Print akar persamaan."
      ]
    },
    {
      "cell_type": "code",
      "execution_count": null,
      "metadata": {
        "id": "7fEOcJimusHv"
      },
      "outputs": [],
      "source": []
    }
  ],
  "metadata": {
    "kernelspec": {
      "display_name": "Python 3",
      "language": "python",
      "name": "python3"
    },
    "language_info": {
      "codemirror_mode": {
        "name": "ipython",
        "version": 3
      },
      "file_extension": ".py",
      "mimetype": "text/x-python",
      "name": "python",
      "nbconvert_exporter": "python",
      "pygments_lexer": "ipython3",
      "version": "3.8.3"
    },
    "colab": {
      "provenance": []
    }
  },
  "nbformat": 4,
  "nbformat_minor": 0
}