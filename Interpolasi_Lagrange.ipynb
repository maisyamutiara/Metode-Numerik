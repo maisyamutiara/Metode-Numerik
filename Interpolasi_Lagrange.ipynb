{
  "cells": [
    {
      "cell_type": "code",
      "execution_count": 1,
      "metadata": {
        "colab": {
          "base_uri": "https://localhost:8080/"
        },
        "id": "ic52bNtmuwQG",
        "outputId": "74a0c20b-3321-4c75-c30f-5fcaac076176"
      },
      "outputs": [
        {
          "output_type": "stream",
          "name": "stdout",
          "text": [
            "Masukkan list titik-titik berurutan : [1.8,1.9,2.0,2.1,2.2]\n",
            "Masukkan list nilai fungsi di titik-titik tersebut : [10.889365,12.703199,14.778112,17.148957,19.855030]\n",
            "Masukkan titik dimana nilai turunan fungsinya akan diaproksimasi : 2\n",
            " \n",
            "Fungsi Polinomial = : 1.85124999999607*x**4 - 8.63091666658875*x**3 + 22.1335874997312*x**2 - 22.0363508333685*x + 9.74379700009013\n",
            " \n",
            "1. Metode Three Point Endpoint\n",
            "2. Metode Three Point Midpoint\n",
            "3. Metode Five Point Endpoint\n",
            "4. Metode Five Point Midpoint\n",
            " \n",
            "Pilih metode berdasarkan angka pilihan di atas : 1\n",
            "Turunan ke berapa yang diinginkan : 1\n",
            "Turunan ke- 1 dari f di x0 = 2.0000000 adalah : \n",
            "f'(2) = 22.0323100 (Three Point Endpoint)\n"
          ]
        }
      ],
      "source": [
        "import numpy as np\n",
        "import sympy\n",
        "from sympy import simplify\n",
        "\n",
        "titik_x = eval(input('Masukkan list titik-titik berurutan : ')) #nilai x\n",
        "titik_y = eval(input('Masukkan list nilai fungsi di titik-titik tersebut : ')) #nilai y\n",
        "x = eval(input('Masukkan titik dimana nilai turunan fungsinya akan diaproksimasi : ')) #titik x yang akan dicari turunannya\n",
        "h = titik_x[1]-titik_x[0]\n",
        "\n",
        "#Gunakan metode Interpolasi Lagrange\n",
        "def persamaanpolinom(x_points, y_points):\n",
        "    x=sympy.symbols('x')\n",
        "    if  len(x_points)!= len(y_points):\n",
        "        return 1\n",
        "    pol=0\n",
        "    for k in range(len(x_points)):\n",
        "        L=1\n",
        "        for j in range(len(x_points)):\n",
        "            if j != k:\n",
        "                L=L*((x-x_points[j]) /(x_points[k]-x_points[j]))\n",
        "        pol+= L*y_points[k]\n",
        "    return pol\n",
        "polinom = persamaanpolinom(titik_x,titik_y)\n",
        "Fx = str(simplify(polinom))\n",
        "\n",
        "print(' ')\n",
        "print('Fungsi Polinomial = :',Fx)\n",
        "print(' ')\n",
        "\n",
        "def f(x) : #mendefinisikan fungsi hasil polinom lagrange\n",
        "    return eval(Fx)\n",
        "\n",
        "print('1. Metode Three Point Endpoint\\n2. Metode Three Point Midpoint\\n3. Metode Five Point Endpoint\\n4. Metode Five Point Midpoint')\n",
        "print(' ')\n",
        "metode = eval(input('Pilih metode berdasarkan angka pilihan di atas : ')) #pilih metode\n",
        "n = eval(input('Turunan ke berapa yang diinginkan : ')) #pilih turunan\n",
        "\n",
        "if metode == 1:\n",
        "    def TPEP(x,h,n): #pendefinisan fungsi Three Point Endpoint dengan n-kali penurunan              \n",
        "        if n == 1:  #turunan pertama\n",
        "            return ((1/(2*h))*(-3*f(x)+4*f(x+h)-f(x+2*h)))\n",
        "        elif n >= 2: #turunan ke-2 sampai ke-n\n",
        "            return ((1/(2*h))*(-3*TPEP(x,h,n-1)+4*TPEP(x+h,h,n-1)-TPEP(x+2*h,h,n-1)))\n",
        "    print('Turunan ke- {0} dari f di x0 = {1:.7f} adalah : '.format(n,x))\n",
        "    print(\"f'({0}) = {1:.7f} (Three Point Endpoint)\".format(x,TPEP(x,h,n)))\n",
        "\n",
        "if metode == 2:\n",
        "    def TPMP(x,h,n): #pendefinisan fungsi Three Point Midpoint dengan n-kali penurunan\n",
        "        if n == 1:\n",
        "            return (1/(2*h))*(f(x+h)-f(x-h))\n",
        "        elif n >= 2:\n",
        "            return (1/(2*h))*(TPMP(x+h,h,n-1)-TPMP(x-h,h,n-1))\n",
        "    print('Turunan ke- {0} dari f di x0 = {1:.7f} adalah : '.format(n,x))\n",
        "    print(\"f'({0}) = {1:.7f} (Three Point Midpoint)\".format(x,TPMP(x,h,n)))\n",
        "\n",
        "if metode == 3:\n",
        "    def FPEP(x,h,n): #pendefinisan fungsi Five Point Endpoint dengan n-kali penurunan\n",
        "        if n == 1:\n",
        "            return (1/(12*h))*(-25*f(x)+48*f(x+h)-36*f(x+2*h)+16*f(x+3*h)-3*f(x+4*h))\n",
        "        elif n >= 2:\n",
        "            return (1/(12*h))*(-25*FPEP(x,h,n-1)+48*FPEP(x+h,h,n-1)-36*FPEP(x+2*h,h,n-1)+16*FPEP(x+3*h,h,n-1)-3*FPEP(x+4*h,h,n-1))\n",
        "    print('Turunan ke- {0} dari f di x0 = {1:.7f} adalah : '.format(n,x))\n",
        "    print(\"f'({0}) = {1:.7f} (Five Point Endpoint)\".format(x,FPEP(x,h,n)))\n",
        "\n",
        "if metode == 4:\n",
        "    def FPMP(x,h,n): #pendefinisan fungsi Five Point Midpoint dengan n-kali penurunan\n",
        "        if n == 1:\n",
        "            return (1/(12*h))*(f(x-2*h)-8*f(x-h)+8*f(x+h)-f(x+2*h))\n",
        "        elif n >= 2:\n",
        "            return (1/(12*h))*(FPMP(x-2*h,h,n-1)-8*FPMP(x-h,h,n-1)+8*FPMP(x+h,h,n-1)-FPMP(x+2*h,h,n-1))\n",
        "    print('Turunan ke- {0} dari f di x0 = {1:.7f} adalah : '.format(n,x))\n",
        "    print(\"f'({0}) = {1:.7f} (Five Point Midpoint)\".format(x,FPMP(x,h,n)))"
      ]
    },
    {
      "cell_type": "code",
      "execution_count": null,
      "metadata": {
        "id": "mCswBlcduwQT",
        "outputId": "bbe99ed1-83b7-4af6-f280-dc69e4d695b8"
      },
      "outputs": [
        {
          "data": {
            "text/plain": [
              "-0.7849997393805097"
            ]
          },
          "execution_count": 2,
          "metadata": {},
          "output_type": "execute_result"
        }
      ],
      "source": [
        "TPEP(2.7,0.1,3) #f'(2.4) untuk three point endpoint"
      ]
    },
    {
      "cell_type": "code",
      "execution_count": null,
      "metadata": {
        "id": "KpJwwmcSuwQV",
        "outputId": "b66f9b42-8ad4-4d44-c317-dd1d24e6488b"
      },
      "outputs": [
        {
          "data": {
            "text/plain": [
              "1.145850123634773"
            ]
          },
          "execution_count": 13,
          "metadata": {},
          "output_type": "execute_result"
        }
      ],
      "source": [
        "TPMP(2.4,0.1,1) #f'(2.4) untuk three point midpoint"
      ]
    },
    {
      "cell_type": "code",
      "execution_count": null,
      "metadata": {
        "id": "iFZCDxCUuwQX",
        "outputId": "31d8fce9-7756-411c-c7a9-e691873e280b"
      },
      "outputs": [
        {
          "data": {
            "text/plain": [
              "1.1605001234314234"
            ]
          },
          "execution_count": 16,
          "metadata": {},
          "output_type": "execute_result"
        }
      ],
      "source": [
        "FPEP(2.4,0.1,1) #f'(2.4) untuk five point endpoint"
      ]
    },
    {
      "cell_type": "code",
      "execution_count": null,
      "metadata": {
        "id": "KHO4f6DduwQY",
        "outputId": "c97743eb-90b8-4108-cf20-e4c1736f0a8c"
      },
      "outputs": [
        {
          "data": {
            "text/plain": [
              "1.1572001234571871"
            ]
          },
          "execution_count": 19,
          "metadata": {},
          "output_type": "execute_result"
        }
      ],
      "source": [
        "FPMP(2.4,0.1,1) #f'(2.4) untuk five point midpoint"
      ]
    },
    {
      "cell_type": "code",
      "execution_count": null,
      "metadata": {
        "id": "S_xSr1nCuwQZ",
        "outputId": "342b8423-4739-4c41-92cf-ea586801c1f0"
      },
      "outputs": [
        {
          "data": {
            "text/plain": [
              "-1.0499998714976755"
            ]
          },
          "execution_count": 21,
          "metadata": {},
          "output_type": "execute_result"
        }
      ],
      "source": [
        "TPEP(2.4,0.1,2) #f''(2.5) untuk three point endpoint"
      ]
    },
    {
      "cell_type": "code",
      "execution_count": null,
      "metadata": {
        "id": "tyQEq3NUuwQa",
        "outputId": "ecd90b40-20d9-45b2-eeb0-5b466d869e70"
      },
      "outputs": [
        {
          "data": {
            "text/plain": [
              "-0.5169998706151091"
            ]
          },
          "execution_count": 22,
          "metadata": {},
          "output_type": "execute_result"
        }
      ],
      "source": [
        "TPMP(2.4,0.1,2) #f''(2.5) untuk three point midpoint"
      ]
    },
    {
      "cell_type": "code",
      "execution_count": null,
      "metadata": {
        "id": "tI0ZQmzKuwQb",
        "outputId": "83afbf94-f0a1-43af-8817-7a27aa96f86c"
      },
      "outputs": [
        {
          "data": {
            "text/plain": [
              "-0.8721109777841062"
            ]
          },
          "execution_count": 23,
          "metadata": {},
          "output_type": "execute_result"
        }
      ],
      "source": [
        "FPEP(2.4,0.1,2) #f''(2.5) untuk five point endpoint"
      ]
    },
    {
      "cell_type": "code",
      "execution_count": null,
      "metadata": {
        "id": "3kL0q__duwQd",
        "outputId": "9085b626-d8db-4f79-cac8-67b1e8c5d038"
      },
      "outputs": [
        {
          "data": {
            "text/plain": [
              "-0.8054443153500617"
            ]
          },
          "execution_count": 24,
          "metadata": {},
          "output_type": "execute_result"
        }
      ],
      "source": [
        "FPMP(2.4,0.1,2) #f''(2.5) untuk five point midpoint"
      ]
    },
    {
      "cell_type": "code",
      "execution_count": null,
      "metadata": {
        "id": "OiBql3r7uwQe",
        "outputId": "f6a0ee9b-6583-468e-98b7-132fe9e102d4"
      },
      "outputs": [
        {
          "data": {
            "text/plain": [
              "-0.7849997393805097"
            ]
          },
          "execution_count": 25,
          "metadata": {},
          "output_type": "execute_result"
        }
      ],
      "source": [
        "TPEP(2.7,0.1,3) #f'''(2.7) untuk three point endpoint"
      ]
    },
    {
      "cell_type": "code",
      "execution_count": null,
      "metadata": {
        "id": "EFwnRvBAuwQg",
        "outputId": "d00a74e6-34a6-4678-fc64-f650b94fc1e1"
      },
      "outputs": [
        {
          "data": {
            "text/plain": [
              "0.7450001330653322"
            ]
          },
          "execution_count": 26,
          "metadata": {},
          "output_type": "execute_result"
        }
      ],
      "source": [
        "TPMP(2.7,0.1,3) #f'''(2.7) untuk three point midpoint"
      ]
    },
    {
      "cell_type": "code",
      "execution_count": null,
      "metadata": {
        "id": "Yi5Mk-wtuwQh",
        "outputId": "7bd09d6f-a20e-482a-e615-d212f66a38a6"
      },
      "outputs": [
        {
          "data": {
            "text/plain": [
              "0.7350012344799468"
            ]
          },
          "execution_count": 27,
          "metadata": {},
          "output_type": "execute_result"
        }
      ],
      "source": [
        "FPEP(2.7,0.1,3) #f'''(2.7) untuk five point endpoint"
      ]
    },
    {
      "cell_type": "code",
      "execution_count": null,
      "metadata": {
        "id": "ZFayYBdfuwQi",
        "outputId": "a75a836d-b079-43d4-e1cf-ef81a0d03233"
      },
      "outputs": [
        {
          "data": {
            "text/plain": [
              "0.7350001313073783"
            ]
          },
          "execution_count": 28,
          "metadata": {},
          "output_type": "execute_result"
        }
      ],
      "source": [
        "FPMP(2.7,0.1,3) #f'''(2.7) untuk five point midpoint"
      ]
    },
    {
      "cell_type": "markdown",
      "metadata": {
        "id": "iegLhq8ruwQj"
      },
      "source": [
        "Program ini untuk mencari turunan numerik pertama, kedua, dan ketiga dari pasangan titik x dan y yang diketahui. Program ini menggunakan 4 metode turunan numerik yaitu Three Point Endpoint, Three Point Midpoint, Five Point Endpoint, Five Point Midpoint.\n",
        "Algoritma program :\n",
        "1. Menginput titik x dan titik y berurutan, nilai x yang akan dicari turunanya, dan stepsize.\n",
        "2. Menggunakan interpolasi (pada program ini digunakan metode Lagrange) untuk mencari fungsi persamaan polinom.\n",
        "3. Mendefinisikan fungsi f(x) untuk fungsi polinomial lagrange\n",
        "4. Menginput metode yang dipilih dan turunan ke berapa yang diinginkan.\n",
        "5. Gunakan if conditional untuk metode dan turunannya.\n",
        "6. Jika metode dipilih 1 (Three Point Endpoint), definisikan fungsi TPEP dengan argumen x,h,n\n",
        "\n",
        "   Masukan nilai fungsi TPEP $\\frac{1}{2h}{[-3f(x)+4f(x+h)-f(x+2h)]}$ untuk turunan pertamanya\n",
        "   \n",
        "   dan nilai fungsi $\\frac{1}{2h}[-3TPEP(x,h,n-1)+4TPEP(x+h,h,n-1)-TPEP(x+2h,h,n-1)]$ untuk turunan ke-2 dan ke-3.\n",
        "\n",
        "\n",
        "7. Jika metode dipilih 2 (Three Point Midpoint), definisikan fungsi TPMP dengan argumen x,h,n\n",
        "\n",
        "   Masukkan nilai fungsi TPMP $\\frac{1}{2h}[f(x+h)-f(x-h)]$ untuk turunan pertamanya\n",
        "   \n",
        "   dan nilai fungsi $\\frac{1}{2h}[TPMP(x+h,h,n-1)-TPMP(x-h,h,n-1)]$ untuk turunan ke-2 dan ke-3.\n",
        "   \n",
        "   \n",
        "8. Jika metode dipilih 3 (Five Point Endpoint), definisikan fungsi FPEP dengan argumen x,h,n\n",
        "\n",
        "   Masukkan nilai fungsi FPEP $\\frac{1}{12h}[-25f(x)+48f(x+h)-36f(x+2h)+16f(x+3h)-3f(x+4h)]$ untuk turunan pertamanya\n",
        "   \n",
        "   dan nilai fungsi untuk turunan ke-2 dan ke-3\n",
        "   $\\frac{1}{12h}[-25FPEP(x,h,n-1)+48FPEP(x+h,h,n-1)-36FPEP(x+2h,h,n-1)+16FPEP(x+3h,h,n-1)-3FPEP(x+4h,h,n-1)]$\n",
        "   \n",
        "   \n",
        "9. Jika metode dipilih 4 (Five Point Midpoint), definisikan fungsi FPEP dengan argumen x,h,n\n",
        "\n",
        "   Masukkan nilai fungsi $\\frac{1}{12h}[f(x-2h)-8f(x-h)+8f(x+h)-f(x+2h)]$ untuk turunan pertamanya\n",
        "   \n",
        "   dan nilai fungsi untuk turunan ke-2 dan ke-3\n",
        "   $\\frac{1}{12h}[FPMP(x-2h,h,n-1)-8FPMP(x-h,h,n-1)+8FPMP(x+h,h,n-1)-FPMP(x+2h,h,n-1)]$\n",
        "   \n",
        "   \n",
        " 10. Print hasil turunan dari x yang dicari."
      ]
    },
    {
      "cell_type": "markdown",
      "metadata": {
        "id": "26WlxhwMuwQm"
      },
      "source": [
        "Jadi dari program yang telah dibuat dengan input nilai numerik sebagai berikut :\n",
        "x = [2.4],[2.5],[2.6],[2.7],[2.8],[2.9],[3.0]\n",
        "y = [1.76601],[1.87697],[1.97803],[2.06988],[2.15357],[2.22953],[2.29859]\n",
        "\n",
        "Didapatkan nilai turunan pertama untuk x = 2.4 sebagai berikut :\n",
        "1. Metode Three Point Endpoint f'(2.4) = 1.1591001230453912\n",
        "2. Metode Three Point Midpoint f'(2.4) = 1.145850123634773\n",
        "3. Metode Five Point Endpoint f'(2.4) = 1.1605001234314234\n",
        "4. Metode Five Point Midpoint f'(2.4) = 1.1572001234571871\n",
        "\n",
        "Didapatkan nilai turunan kedua untuk x = 2.5 sebagai berikut :\n",
        "1. Metode Three Point Endpoint f''(2.5) = -1.0499998714976755\n",
        "2. Metode Three Point Midpoint f''(2.5) = -0.5169998706151091\n",
        "3. Metode Five Point Endpoint f''(2.5) = -0.8721109777841062\n",
        "4. Metode Five Point Midpoint f''(2.5) = -0.8054443153500617\n",
        "\n",
        "Didapatkan nilai turunan ketiga untuk x = 2.7 sebagai berikut :\n",
        "1. Metode Three Point Endpoint f'''(2.7) = -0.7849997393805097\n",
        "2. Metode Three Point Midpoint f'''(2.7) = 0.7450001330653322\n",
        "3. Metode Five Point Endpoint f'''(2.7) = 0.7350012344799468\n",
        "4. Metode Five Point Midpoint f'''(2.7) = 0.7350001313073783"
      ]
    },
    {
      "cell_type": "code",
      "execution_count": null,
      "metadata": {
        "id": "aHc4q6nFuwQn"
      },
      "outputs": [],
      "source": []
    }
  ],
  "metadata": {
    "kernelspec": {
      "display_name": "Python 3",
      "language": "python",
      "name": "python3"
    },
    "language_info": {
      "codemirror_mode": {
        "name": "ipython",
        "version": 3
      },
      "file_extension": ".py",
      "mimetype": "text/x-python",
      "name": "python",
      "nbconvert_exporter": "python",
      "pygments_lexer": "ipython3",
      "version": "3.8.3"
    },
    "colab": {
      "provenance": []
    }
  },
  "nbformat": 4,
  "nbformat_minor": 0
}