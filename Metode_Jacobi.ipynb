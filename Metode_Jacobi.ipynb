{
  "cells": [
    {
      "cell_type": "markdown",
      "metadata": {
        "id": "4LG7l7EcuzHi"
      },
      "source": [
        "Program ini adalah program untuk menghitung nilai aproksimasi solusi dari SPL dengan menggunakan metode Jacobi. Input dari program ini adalah matriks dari SPL yang bersesuaian, solusi awal, dan batas toleransi. Output dari program ini berupa table yang berisi nilai x1, x2, x3, dan x4 pada setiap proses iterasinya. Berikut formula untuk maetode Jacobi :"
      ]
    },
    {
      "cell_type": "markdown",
      "metadata": {
        "id": "epjsP0ckuzHr"
      },
      "source": [
        "Metode Jacobi\n",
        "\n",
        "Misalkan $\\mathbf{x}^{(k)} = \\left(x_1^{(k)},x_2^{(k)},x_3^{(k)},x_4^{(k)}\\right)^t$ adalah solusi dari SPL $A\\mathbf{x} = \\mathbf{b}$ pada iterasi ke-k. Metode Jacobi memiliki formula sbb.\n",
        "$$x_i^{(k)} = \\frac{1}{a_{ii}}\\left[\\sum_{j=1,j\\neq i}^n \\left(-a_{ij}x_j^{(k-1)}\\right) + b_i\\right], i = 1,2,\\dots,n$$\n",
        "Kriteria penyetop bisa berupa error mutlak $\\left|\\left|\\mathbf{x}^{(k)}-\\mathbf{x}^{(k-1)}\\right|\\right|<\\varepsilon$ atau error relatif $\\frac{\\left|\\left|\\mathbf{x}^{(k)}-\\mathbf{x}^{(k-1)}\\right|\\right|}{\\left|\\left|\\mathbf{x}^{(k)}\\right|\\right|}<\\varepsilon$. Norm yang biasa dipakai adalah norm-2 atau norm-tak hingga.<br>"
      ]
    },
    {
      "cell_type": "markdown",
      "metadata": {
        "id": "2GqIIzsBuzHs"
      },
      "source": [
        "Algoritma dari program ini adalah :\n",
        "\n",
        "1. Import module tabulate dan numpy.\n",
        "2. Input matriks, solusi awal, dan batas toleransi.\n",
        "3. Buat list kosong \"table\".\n",
        "4. Definisikan fungsi Jacobi dengan ketiga input tersebut sebagai argumennya.\n",
        "5. Membuat for loop yang akan melooping setiap baris dari matriks.\n",
        "6. Jika nilai j tidak sama dengan i (bukan elemen diagonal), maka akan dihitung $b = \\left[\\sum_{j=1,j\\neq i}^n \\left(-a_{ij}x_j^{(k-1)}\\right) + b_i\\right], i = 1,2,\\dots,n$.\n",
        "7. Selanjutnya akan dihitung nilai $x[i]$ dari setiap iterasi dengan rumus $x_i^{(k)} = \\frac{b}{a_{ii}}$.\n",
        "8. Nilai dari x tersebut akan diubah menjadi bentuk list yang selanjutnya akan diinput ke list kosong \"table\".\n",
        "9. Dengan while loop, setiap nilai x akan diperiksa apakah mutlak error nya telah kurang dari batas toleransi dengan rumus $\\left|\\left|\\mathbf{x}^{(k)}-\\mathbf{x}^{(k-1)}\\right|\\right|<\\varepsilon$.\n",
        "10. Jika iya, maka iterasi selesai dan didapatkan solusi SPL yang konvergen.\n",
        "11. Jika tidak, looping akan terus berjalan hingga menemukan solusi SPL yang konvergen.\n",
        "12. Jika SPL ternyata divergen, program tidak dapat digunakan dan akan berhenti saat overflow."
      ]
    },
    {
      "cell_type": "code",
      "execution_count": null,
      "metadata": {
        "id": "jaDcTjh8uzHu",
        "outputId": "0bd6f8f4-152e-43f0-8cf2-6b2572e81797"
      },
      "outputs": [
        {
          "name": "stdout",
          "output_type": "stream",
          "text": [
            "Masukkan augmented matrix dari SPL yang akan diselesaikan : [[10,-1,2,0,6],[-1,11,-1,3,25],[2,-1,10,-1,-11],[0,3,-1,8,15]]\n",
            "Masukkan tebakan awal solusi : [0,0,0,0]\n",
            "Masukkan toleransi : 10**-3\n",
            "╒═══════════╤══════════╤═════════╤═══════════╤══════════╕\n",
            "│  Iterasi  │    x1    │   x2    │    x3     │    x4    │\n",
            "╞═══════════╪══════════╪═════════╪═══════════╪══════════╡\n",
            "│     1     │   0.6    │ 2.27273 │   -1.1    │  1.875   │\n",
            "├───────────┼──────────┼─────────┼───────────┼──────────┤\n",
            "│     2     │ 1.04727  │ 1.71591 │ -0.805227 │ 0.885227 │\n",
            "├───────────┼──────────┼─────────┼───────────┼──────────┤\n",
            "│     3     │ 0.932636 │ 2.05331 │ -1.04934  │ 1.13088  │\n",
            "├───────────┼──────────┼─────────┼───────────┼──────────┤\n",
            "│     4     │  1.0152  │ 1.9537  │ -0.968109 │ 0.973843 │\n",
            "├───────────┼──────────┼─────────┼───────────┼──────────┤\n",
            "│     5     │ 0.988991 │ 2.01141 │ -1.01029  │ 1.02135  │\n",
            "├───────────┼──────────┼─────────┼───────────┼──────────┤\n",
            "│     6     │  1.0032  │ 1.99224 │ -0.994522 │ 0.994434 │\n",
            "├───────────┼──────────┼─────────┼───────────┼──────────┤\n",
            "│     7     │ 0.998128 │ 2.00231 │ -1.00197  │ 1.00359  │\n",
            "├───────────┼──────────┼─────────┼───────────┼──────────┤\n",
            "│     8     │ 1.00063  │ 1.99867 │ -0.999036 │ 0.998888 │\n",
            "├───────────┼──────────┼─────────┼───────────┼──────────┤\n",
            "│     9     │ 0.999674 │ 2.00045 │ -1.00037  │ 1.00062  │\n",
            "├───────────┼──────────┼─────────┼───────────┼──────────┤\n",
            "│    10     │ 1.00012  │ 1.99977 │ -0.999828 │ 0.999786 │\n",
            "╘═══════════╧══════════╧═════════╧═══════════╧══════════╛\n",
            "Aproksimasi solusi SPL tersebut dengan metode Jacobi adalah :\n",
            "[ 1.0001186   1.99976795 -0.99982814  0.99978598]\n"
          ]
        }
      ],
      "source": [
        "import numpy as np\n",
        "from tabulate import tabulate\n",
        "\n",
        "aug_matrix = np.array(eval(input('Masukkan augmented matrix dari SPL yang akan diselesaikan : ')))\n",
        "initial_solution = np.array(eval(input('Masukkan tebakan awal solusi : ')),dtype=float)\n",
        "tolerance = eval(input('Masukkan toleransi : '))\n",
        "table = []                                     #list kosong yang akan diinput setiap nilai x hasil aproksimasi\n",
        "\n",
        "def Jacobi(matrix,initial,tol):                \n",
        "    n = np.shape(matrix)[0]                    #ukuran matriks/banyak variabel\n",
        "    x0 = initial                               #definisikan x0 sebagai tebakan awal\n",
        "    x = x0.copy()                              #definisikan x = x0 (gunakan .copy() agar jika x0 berubah, x tiidak berubah)\n",
        "    z = 0                                      #inisialisasi iterasi awal\n",
        "\n",
        "    for i in range(n):\n",
        "        b = matrix[i,n]                        #konstanta pada SPL\n",
        "        for j in range(n):                     #metode Jacobi\n",
        "            if j!=i:\n",
        "                b-=matrix[i,j]*x0[j]           \n",
        "        x[i]=b/matrix[i,i]                     #hasil aproksimasi Jacobi\n",
        "        entri = x.tolist()                     #mengubah matrix x menjadi list\n",
        "    z = z+1                                    #pertambahan iterasi\n",
        "    entri.insert(0, z)                         #memasukkan z ke elemen pertama list x \n",
        "    table.append(entri)                        #menginput list entri ke list kosong table\n",
        "    \n",
        "    while np.linalg.norm(x-x0,np.inf)>=tol:    #pengecekan kriteria penyetop menggunakan error mutlak\n",
        "        x0 = x                                 #definisikan x0 sebagai x(k-1)\n",
        "        x = x0.copy()                          #definisikan x sebagai x(k), namun awalnya samakan dengan x0\n",
        "        for i in range(n):                     #metode Jacobi\n",
        "            b = matrix[i,n]\n",
        "            for j in range(n):\n",
        "                if j!=i:\n",
        "                    b-=matrix[i,j]*x0[j]\n",
        "            x[i]=b/matrix[i,i]\n",
        "            entri = x.tolist()\n",
        "        z = z+1\n",
        "        entri.insert(0, z)\n",
        "        table.append(entri)\n",
        "    print(tabulate(table, headers = [\"Iterasi\", \"x1\", \"x2\", \"x3\", \"x4\"], tablefmt = \"fancy_grid\", numalign = \"center\"))\n",
        "    print('Aproksimasi solusi SPL tersebut dengan metode Jacobi adalah :')\n",
        "    return x                                   #nilai yang direturn fungsi ini adalah x(k)\n",
        "\n",
        "print(Jacobi(aug_matrix,initial_solution,tolerance))"
      ]
    },
    {
      "cell_type": "markdown",
      "metadata": {
        "id": "uE0H0xmLuzHy"
      },
      "source": [
        "# Soal 1"
      ]
    },
    {
      "cell_type": "markdown",
      "metadata": {
        "id": "UbSCGpY_uzHz"
      },
      "source": [
        "Diberikan matrix $A$ =\\begin{bmatrix}4&1&-1&1\\\\1&4&-1&-1\\\\-1&-1&5&1\\\\1&-1&1&3\\end{bmatrix} dan matrix $b$ =\\begin{bmatrix}-2\\\\-1\\\\0\\\\1\\end{bmatrix}.\n",
        "$x^0 = [0,0,0,0]$ dan toleransi $10^{-3}$.\n",
        "\n",
        "Jawaban :\n",
        "\n",
        "Matriks konvergen menuju solusi awal pada iterasi ke 10. Jadi dibutuhkan 10 kali iterasi untuk mendapatkan hasil solusi SPL yang konvergen yaitu $x1 = -0.75205599, x2 = 0.04027028, x3 = -0.28025957, x4 = 0.69008536$."
      ]
    },
    {
      "cell_type": "code",
      "execution_count": null,
      "metadata": {
        "id": "26j3ll70uzH0",
        "outputId": "66a69371-7248-46f1-f5c7-4e3c97c29137"
      },
      "outputs": [
        {
          "name": "stdout",
          "output_type": "stream",
          "text": [
            "Masukkan augmented matrix dari SPL yang akan diselesaikan : [[4,1,-1,1,-2],[1,4,-1,-1,-1],[-1,-1,5,1,0],[1,-1,1,3,1]]\n",
            "Masukkan tebakan awal solusi : [0,0,0,0]\n",
            "Masukkan toleransi : 10**-3\n",
            "╒═══════════╤═══════════╤════════════╤═══════════╤══════════╕\n",
            "│  Iterasi  │    x1     │     x2     │    x3     │    x4    │\n",
            "╞═══════════╪═══════════╪════════════╪═══════════╪══════════╡\n",
            "│     1     │   -0.5    │   -0.25    │     0     │ 0.333333 │\n",
            "├───────────┼───────────┼────────────┼───────────┼──────────┤\n",
            "│     2     │ -0.520833 │ -0.0416667 │ -0.216667 │ 0.416667 │\n",
            "├───────────┼───────────┼────────────┼───────────┼──────────┤\n",
            "│     3     │ -0.647917 │ -0.0697917 │ -0.195833 │ 0.565278 │\n",
            "├───────────┼───────────┼────────────┼───────────┼──────────┤\n",
            "│     4     │ -0.67283  │ 0.00434028 │ -0.256597 │ 0.591319 │\n",
            "├───────────┼───────────┼────────────┼───────────┼──────────┤\n",
            "│     5     │ -0.713064 │ 0.00188802 │ -0.251962 │ 0.644589 │\n",
            "├───────────┼───────────┼────────────┼───────────┼──────────┤\n",
            "│     6     │ -0.72461  │ 0.0264229  │ -0.271153 │ 0.655638 │\n",
            "├───────────┼───────────┼────────────┼───────────┼──────────┤\n",
            "│     7     │ -0.738303 │ 0.0272737  │ -0.270765 │ 0.674062 │\n",
            "├───────────┼───────────┼────────────┼───────────┼──────────┤\n",
            "│     8     │ -0.743025 │ 0.0354001  │ -0.277018 │ 0.678781 │\n",
            "├───────────┼───────────┼────────────┼───────────┼──────────┤\n",
            "│     9     │  -0.7478  │ 0.0361969  │ -0.277281 │ 0.685148 │\n",
            "├───────────┼───────────┼────────────┼───────────┼──────────┤\n",
            "│    10     │ -0.749656 │ 0.0389166  │ -0.27935  │ 0.687093 │\n",
            "├───────────┼───────────┼────────────┼───────────┼──────────┤\n",
            "│    11     │ -0.75134  │ 0.0393497  │ -0.279566 │ 0.689308 │\n",
            "├───────────┼───────────┼────────────┼───────────┼──────────┤\n",
            "│    12     │ -0.752056 │ 0.0402703  │ -0.28026  │ 0.690085 │\n",
            "╘═══════════╧═══════════╧════════════╧═══════════╧══════════╛\n",
            "Aproksimasi solusi SPL tersebut dengan metode Jacobi adalah :\n",
            "[-0.75205599  0.04027028 -0.28025957  0.69008536]\n"
          ]
        }
      ],
      "source": [
        "import numpy as np\n",
        "from tabulate import tabulate\n",
        "\n",
        "aug_matrix = np.array(eval(input('Masukkan augmented matrix dari SPL yang akan diselesaikan : ')))\n",
        "initial_solution = np.array(eval(input('Masukkan tebakan awal solusi : ')),dtype=float)\n",
        "tolerance = eval(input('Masukkan toleransi : '))\n",
        "table = [] #list kosong yang akan diinput setiap nilai x hasil aproksimasi\n",
        "\n",
        "def Jacobi(matrix,initial,tol):                \n",
        "    n = np.shape(matrix)[0]                    #ukuran matriks/banyak variabel\n",
        "    x0 = initial                               #definisikan x0 sebagai tebakan awal\n",
        "    x = x0.copy()                              #definisikan x = x0 (gunakan .copy() agar \n",
        "    z = 0                                      #inisialisasi iterasi awal\n",
        "    #jika x0 berubah, x tiidak berubah\n",
        "    for i in range(n):\n",
        "        b = matrix[i,n]                        #konstanta pada SPL\n",
        "        for j in range(n):                     #metode Jacobi\n",
        "            if j!=i:\n",
        "                b-=matrix[i,j]*x0[j]           \n",
        "        x[i]=b/matrix[i,i]                     #hasil aproksimasi Jacobi\n",
        "        entri = x.tolist()                     #mengubah matrix x menjadi list\n",
        "    z = z+1                                    #pertambahan iterasi\n",
        "    entri.insert(0, z)                         #memasukkan z ke elemen pertama list x \n",
        "    table.append(entri)                        #menginput list entri ke list kosong table\n",
        "    \n",
        "    while np.linalg.norm(x-x0,np.inf)>=tol:    #pengecekan kriteria penyetop menggunakan error mutlak\n",
        "        x0 = x                                 #definisikan x0 sebagai x(k-1)\n",
        "        x = x0.copy()                          #definisikan x sebagai x(k), namun awalnya samakan dengan x0\n",
        "        for i in range(n):                     #metode Jacobi\n",
        "            b = matrix[i,n]\n",
        "            for j in range(n):\n",
        "                if j!=i:\n",
        "                    b-=matrix[i,j]*x0[j]\n",
        "            x[i]=b/matrix[i,i]\n",
        "            entri = x.tolist()\n",
        "        z = z+1\n",
        "        entri.insert(0, z)\n",
        "        table.append(entri)\n",
        "    print(tabulate(table, headers = [\"Iterasi\", \"x1\", \"x2\", \"x3\", \"x4\"], tablefmt = \"fancy_grid\", numalign = \"center\"))\n",
        "    print('Aproksimasi solusi SPL tersebut dengan metode Jacobi adalah :')\n",
        "    return x                                   #nilai yang direturn fungsi ini adalah x(k)\n",
        "\n",
        "print(Jacobi(aug_matrix,initial_solution,tolerance))"
      ]
    }
  ],
  "metadata": {
    "kernelspec": {
      "display_name": "Python 3",
      "language": "python",
      "name": "python3"
    },
    "colab": {
      "provenance": []
    }
  },
  "nbformat": 4,
  "nbformat_minor": 0
}