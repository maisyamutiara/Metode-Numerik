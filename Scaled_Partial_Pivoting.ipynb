{
  "cells": [
    {
      "cell_type": "code",
      "execution_count": null,
      "metadata": {
        "id": "lO1w3RTzuzFA",
        "outputId": "a9f6e3c4-4861-441c-bad3-4941aa34e32f"
      },
      "outputs": [
        {
          "name": "stdout",
          "output_type": "stream",
          "text": [
            "Masukkan 5 digit terakhir NPM : [6,3,5,0,2]\n",
            " \n",
            "Augmented matriks yang terbentuk dari SPL :\n",
            "[[41. 79. 77. 62. 54.]\n",
            " [70. 23. 28. 81. 79.]\n",
            " [67.  8. 94. 12. 76.]\n",
            " [ 6.  3.  5.  0.  2.]]\n",
            " \n",
            "[[  6.           3.           5.           0.           2.        ]\n",
            " [  0.         -12.         -30.33333333  81.          55.66666667]\n",
            " [  0.         -25.5         38.16666667  12.          53.66666667]\n",
            " [  0.          58.5         42.83333333  62.          40.33333333]]\n",
            " \n",
            "[[  6.           3.           5.           0.           2.        ]\n",
            " [  0.          58.5         42.83333333  62.          40.33333333]\n",
            " [  0.           0.          56.83760684  39.02564103  71.24786325]\n",
            " [  0.           0.         -21.54700855  93.71794872  63.94017094]]\n",
            " \n",
            "[[  6.           3.           5.           0.           2.        ]\n",
            " [  0.          58.5         42.83333333  62.          40.33333333]\n",
            " [  0.           0.          56.83760684  39.02564103  71.24786325]\n",
            " [  0.           0.           0.         108.5124812   90.95007519]]\n",
            " \n",
            "Solusi SPL : \n",
            " [ 0.11594661 -0.69529994  0.67804403  0.83815312]\n"
          ]
        }
      ],
      "source": [
        "import numpy as np\n",
        "import random\n",
        "\n",
        "row = np.array(eval(input('Masukkan 5 digit terakhir NPM : ')),dtype='float64') #input baris 4 berisi 5 digit NPM\n",
        "arr = np.random.randint(100, size = (3,5)) #merandom entri matriks 3 x 5\n",
        "aug_matrix = np.vstack([arr,row]) #menggabungkan list 'row' dengan matriks 'arr' \n",
        "print(' ')\n",
        "print(\"Augmented matriks yang terbentuk dari SPL :\")\n",
        "print(aug_matrix)\n",
        "\n",
        "print(' ')\n",
        "\n",
        "def ScaledPartialPivoting(matrix): #mendefinisikan fungsi ScaledPartialPivoting\n",
        "    n = np.shape(matrix)[0] #banyak baris pada matriks atau banyaknya persamaan pada SPL\n",
        "    s = np.array([max(abs(matrix[i,:n])) for i in range(n)])  #menentukan skalar untuk setiap kolom\n",
        "    if 0 in s:\n",
        "        return \"SPL tidak memiliki solusi unik\" #elemen dengan nilai mutlak terbesar tidak boleh 0 (singular)\n",
        "    for i in range(n-1):\n",
        "        mutlak = abs(matrix[i:,i])/s[i:] #mencari |aik|/si\n",
        "        pivot = np.argmax(mutlak) #mencari nilai maksimum dari numpy 'mutlak'\n",
        "        if matrix[i,pivot+i] == 0:\n",
        "            return \"SPL tidak memiliki solusi unik\" #elemen pivot tidak boleh 0 (singular)\n",
        "        else:\n",
        "            matrix[[pivot+i,i]] = matrix[[i,pivot+i]] #menukar baris (E1) <-> (E2)\n",
        "            s[pivot+i],s[i] = s[i],s[pivot+i]\n",
        "        \n",
        "        for j in range(i+1,n): #for loop eleminasi gauss\n",
        "            m = matrix[j,i]/matrix[i,i] #lakukan operasi baris elementer\n",
        "            matrix[j] = matrix[j]-m*matrix[i]\n",
        "        print(matrix)\n",
        "        print(' ')\n",
        "    return matrix\n",
        "\n",
        "def BackSubs(matrix): #lakukan subtitusi balik\n",
        "    n = np.shape(matrix)[0] #banyak baris pada matriks atau banyaknya persamaan pada SPL\n",
        "    sol = np.zeros(n)  #membentuk array [0,0,...,0] sepanjang n, untuk menyimpan solusi\n",
        "    sol[n-1]= matrix[n-1,n]/matrix[n-1,n-1] #menghitung xn\n",
        "    for i in range(n-2,-1,-1): #substitusi balik dimulai\n",
        "        for j in range(i+1,n):\n",
        "            matrix[i,n] -= matrix[i,j]*sol[j]\n",
        "        sol[i] = matrix[i,n]/matrix[i,i]\n",
        "    return sol\n",
        "\n",
        "solusiSPL = ScaledPartialPivoting(aug_matrix)\n",
        "print(\"Solusi SPL : \\n {0}\".format(BackSubs(solusiSPL)))"
      ]
    },
    {
      "cell_type": "markdown",
      "metadata": {
        "id": "JCabvd79uzFK"
      },
      "source": [
        "Program ini adalah program untuk mencari solusi dari suatu SPL dengan salah satu strategi pivoting yaitu Scaled Partial Pivoting. Strategi pivoting adalah cara untuk mencegah masalah pada saat melakukan eliminasi Gauss dan substitusi balik muncul ketika *round-off error* dilibatkan dalam perhitungan. Biasanya masalah tersebut muncul ketika elemen pivot (entri diagonal pada matriks koefisien) cukup kecil bila dibandingkan dengan elemen di bawahnya, sehingga hasil substitusi balik bisa jauh dari solusi eksak. Strategi pivoting dilakukan dengan memilih elemen terbesar yang entrinya berada di bawah elemen pivot untuk menjadi pivot baru, kemudian menukar baris elemen pivot lama dengan yang baru.<br>\n",
        "\n",
        "*__Scaled Partial Pivoting__* :\n",
        "Definisikan $$s_i = \\max_{1\\leq j\\leq n} |a_{ij}|$$.\n",
        "Pilih $p \\geq k$ terkecil sedemikian sehingga $$\\frac{|a_{pk}^{(k)}|}{s_k}=\\max_{k\\leq i\\leq n}\\frac{|a_{ik}^{(k)}|}{s_i}$$\n",
        "kemudian lakukan operasi $(E_k) \\leftrightarrow (E_p)$."
      ]
    },
    {
      "cell_type": "markdown",
      "metadata": {
        "id": "NbIeqB_-uzFP"
      },
      "source": [
        "Algoritmatnya adalah :\n",
        "    1. Menginput baris terakhir matriks (dalam soal adalah 5 digit terakhir NPM mahasiswa).\n",
        "    2. Merandom matriks berukuran 3x5 dengan nilai kurang dari 100.\n",
        "    3. Menggabungkan input baris terakhir matriks dengan matriks random ukuran 3x5.\n",
        "    4. Mendefinisikan suatu fungsi Scaled Partial Pivoting untuk menghitung strategi pivoting.\n",
        "    5. Menentukan variabel s yaitu skalar mutlak maksimum dari masing-masing baris $s_i = \\max_{1\\leq j\\leq n} |a_{ij}|$.\n",
        "    6. Jika terdapat nilai maksimum 0, maka matriks tersebut singular atau tidak memiliki solusi unik.\n",
        "    7. Menghitung nilai $\\frac{|a_{pk}^{(k)}|}{s_k}=\\max_{k\\leq i\\leq n}\\frac{|a_{ik}^{(k)}|}{s_i}$.\n",
        "    8. Jika terdapat elemen pivot 0, maka matriks tersebut singular atau tidak memiliki solusi unik.\n",
        "    9. Lakukan operasi $(E_k) \\leftrightarrow (E_p)$ yaitu menukar baris ke-k dengan baris ke-p.\n",
        "    10. Lakukan eleminasi gauss dan operasi baris elementer.\n",
        "    11. Lakukan subtitusi balik untuk mendapatkan solusi."
      ]
    }
  ],
  "metadata": {
    "kernelspec": {
      "display_name": "Python 3",
      "language": "python",
      "name": "python3"
    },
    "language_info": {
      "codemirror_mode": {
        "name": "ipython",
        "version": 3
      },
      "file_extension": ".py",
      "mimetype": "text/x-python",
      "name": "python",
      "nbconvert_exporter": "python",
      "pygments_lexer": "ipython3",
      "version": "3.8.3"
    },
    "colab": {
      "provenance": []
    }
  },
  "nbformat": 4,
  "nbformat_minor": 0
}